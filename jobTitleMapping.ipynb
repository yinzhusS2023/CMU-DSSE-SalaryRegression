{
 "cells": [
  {
   "cell_type": "code",
   "execution_count": 1,
   "id": "4565d49d",
   "metadata": {},
   "outputs": [
    {
     "data": {
      "text/html": [
       "<div>\n",
       "<style scoped>\n",
       "    .dataframe tbody tr th:only-of-type {\n",
       "        vertical-align: middle;\n",
       "    }\n",
       "\n",
       "    .dataframe tbody tr th {\n",
       "        vertical-align: top;\n",
       "    }\n",
       "\n",
       "    .dataframe thead th {\n",
       "        text-align: right;\n",
       "    }\n",
       "</style>\n",
       "<table border=\"1\" class=\"dataframe\">\n",
       "  <thead>\n",
       "    <tr style=\"text-align: right;\">\n",
       "      <th></th>\n",
       "      <th>header.sponsored</th>\n",
       "      <th>map.location</th>\n",
       "      <th>benefits.benefitRatingDecimal</th>\n",
       "      <th>rating.ceoApproval</th>\n",
       "      <th>rating.recommendToFriend</th>\n",
       "      <th>rating.starRating</th>\n",
       "      <th>java</th>\n",
       "      <th>python</th>\n",
       "      <th>javascript</th>\n",
       "      <th>sql</th>\n",
       "      <th>...</th>\n",
       "      <th>benefits.highlights.val.name_Share Incentive Plan</th>\n",
       "      <th>benefits.highlights.val.name_Sick Pay</th>\n",
       "      <th>benefits.highlights.val.name_Stock Options</th>\n",
       "      <th>benefits.highlights.val.name_Unpaid Extended Leave</th>\n",
       "      <th>benefits.highlights.val.name_Work From Home</th>\n",
       "      <th>pro_sentiment</th>\n",
       "      <th>con_sentiment</th>\n",
       "      <th>salary.salaries.val.jobTitle</th>\n",
       "      <th>title</th>\n",
       "      <th>salary</th>\n",
       "    </tr>\n",
       "  </thead>\n",
       "  <tbody>\n",
       "    <tr>\n",
       "      <th>0</th>\n",
       "      <td>0</td>\n",
       "      <td>0</td>\n",
       "      <td>3.000000</td>\n",
       "      <td>0.72</td>\n",
       "      <td>0.60</td>\n",
       "      <td>3.3</td>\n",
       "      <td>1</td>\n",
       "      <td>0</td>\n",
       "      <td>0</td>\n",
       "      <td>0</td>\n",
       "      <td>...</td>\n",
       "      <td>0.0</td>\n",
       "      <td>1.0</td>\n",
       "      <td>0.0</td>\n",
       "      <td>0.0</td>\n",
       "      <td>1.0</td>\n",
       "      <td>0.666667</td>\n",
       "      <td>-0.062500</td>\n",
       "      <td>Software Engineer</td>\n",
       "      <td>software engineer</td>\n",
       "      <td>40065.985</td>\n",
       "    </tr>\n",
       "    <tr>\n",
       "      <th>1</th>\n",
       "      <td>0</td>\n",
       "      <td>0</td>\n",
       "      <td>3.000000</td>\n",
       "      <td>0.72</td>\n",
       "      <td>0.60</td>\n",
       "      <td>3.3</td>\n",
       "      <td>1</td>\n",
       "      <td>0</td>\n",
       "      <td>0</td>\n",
       "      <td>0</td>\n",
       "      <td>...</td>\n",
       "      <td>0.0</td>\n",
       "      <td>1.0</td>\n",
       "      <td>0.0</td>\n",
       "      <td>0.0</td>\n",
       "      <td>1.0</td>\n",
       "      <td>0.666667</td>\n",
       "      <td>-0.062500</td>\n",
       "      <td>Senior Software Engineer</td>\n",
       "      <td>senior software engineer</td>\n",
       "      <td>50760.140</td>\n",
       "    </tr>\n",
       "    <tr>\n",
       "      <th>2</th>\n",
       "      <td>0</td>\n",
       "      <td>0</td>\n",
       "      <td>3.000000</td>\n",
       "      <td>0.72</td>\n",
       "      <td>0.60</td>\n",
       "      <td>3.3</td>\n",
       "      <td>1</td>\n",
       "      <td>0</td>\n",
       "      <td>0</td>\n",
       "      <td>0</td>\n",
       "      <td>...</td>\n",
       "      <td>0.0</td>\n",
       "      <td>1.0</td>\n",
       "      <td>0.0</td>\n",
       "      <td>0.0</td>\n",
       "      <td>1.0</td>\n",
       "      <td>0.666667</td>\n",
       "      <td>-0.062500</td>\n",
       "      <td>Software Developer</td>\n",
       "      <td>software developer</td>\n",
       "      <td>37039.005</td>\n",
       "    </tr>\n",
       "    <tr>\n",
       "      <th>3</th>\n",
       "      <td>0</td>\n",
       "      <td>0</td>\n",
       "      <td>3.571429</td>\n",
       "      <td>0.70</td>\n",
       "      <td>0.65</td>\n",
       "      <td>3.5</td>\n",
       "      <td>3</td>\n",
       "      <td>0</td>\n",
       "      <td>0</td>\n",
       "      <td>0</td>\n",
       "      <td>...</td>\n",
       "      <td>0.0</td>\n",
       "      <td>1.0</td>\n",
       "      <td>0.0</td>\n",
       "      <td>0.0</td>\n",
       "      <td>0.0</td>\n",
       "      <td>0.531746</td>\n",
       "      <td>0.050926</td>\n",
       "      <td>Senior Software Engineer</td>\n",
       "      <td>senior software engineer</td>\n",
       "      <td>58152.660</td>\n",
       "    </tr>\n",
       "    <tr>\n",
       "      <th>4</th>\n",
       "      <td>0</td>\n",
       "      <td>0</td>\n",
       "      <td>3.000000</td>\n",
       "      <td>0.72</td>\n",
       "      <td>0.60</td>\n",
       "      <td>3.3</td>\n",
       "      <td>0</td>\n",
       "      <td>0</td>\n",
       "      <td>0</td>\n",
       "      <td>0</td>\n",
       "      <td>...</td>\n",
       "      <td>0.0</td>\n",
       "      <td>1.0</td>\n",
       "      <td>0.0</td>\n",
       "      <td>0.0</td>\n",
       "      <td>1.0</td>\n",
       "      <td>0.527744</td>\n",
       "      <td>0.080587</td>\n",
       "      <td>Software Engineer</td>\n",
       "      <td>software engineer</td>\n",
       "      <td>40065.985</td>\n",
       "    </tr>\n",
       "  </tbody>\n",
       "</table>\n",
       "<p>5 rows × 206 columns</p>\n",
       "</div>"
      ],
      "text/plain": [
       "   header.sponsored  map.location  benefits.benefitRatingDecimal  \\\n",
       "0                 0             0                       3.000000   \n",
       "1                 0             0                       3.000000   \n",
       "2                 0             0                       3.000000   \n",
       "3                 0             0                       3.571429   \n",
       "4                 0             0                       3.000000   \n",
       "\n",
       "   rating.ceoApproval  rating.recommendToFriend  rating.starRating  java  \\\n",
       "0                0.72                      0.60                3.3     1   \n",
       "1                0.72                      0.60                3.3     1   \n",
       "2                0.72                      0.60                3.3     1   \n",
       "3                0.70                      0.65                3.5     3   \n",
       "4                0.72                      0.60                3.3     0   \n",
       "\n",
       "   python  javascript  sql  ...  \\\n",
       "0       0           0    0  ...   \n",
       "1       0           0    0  ...   \n",
       "2       0           0    0  ...   \n",
       "3       0           0    0  ...   \n",
       "4       0           0    0  ...   \n",
       "\n",
       "   benefits.highlights.val.name_Share Incentive Plan  \\\n",
       "0                                                0.0   \n",
       "1                                                0.0   \n",
       "2                                                0.0   \n",
       "3                                                0.0   \n",
       "4                                                0.0   \n",
       "\n",
       "   benefits.highlights.val.name_Sick Pay  \\\n",
       "0                                    1.0   \n",
       "1                                    1.0   \n",
       "2                                    1.0   \n",
       "3                                    1.0   \n",
       "4                                    1.0   \n",
       "\n",
       "   benefits.highlights.val.name_Stock Options  \\\n",
       "0                                         0.0   \n",
       "1                                         0.0   \n",
       "2                                         0.0   \n",
       "3                                         0.0   \n",
       "4                                         0.0   \n",
       "\n",
       "   benefits.highlights.val.name_Unpaid Extended Leave  \\\n",
       "0                                                0.0    \n",
       "1                                                0.0    \n",
       "2                                                0.0    \n",
       "3                                                0.0    \n",
       "4                                                0.0    \n",
       "\n",
       "   benefits.highlights.val.name_Work From Home  pro_sentiment  con_sentiment  \\\n",
       "0                                          1.0       0.666667      -0.062500   \n",
       "1                                          1.0       0.666667      -0.062500   \n",
       "2                                          1.0       0.666667      -0.062500   \n",
       "3                                          0.0       0.531746       0.050926   \n",
       "4                                          1.0       0.527744       0.080587   \n",
       "\n",
       "   salary.salaries.val.jobTitle                     title     salary  \n",
       "0             Software Engineer         software engineer  40065.985  \n",
       "1      Senior Software Engineer  senior software engineer  50760.140  \n",
       "2            Software Developer        software developer  37039.005  \n",
       "3      Senior Software Engineer  senior software engineer  58152.660  \n",
       "4             Software Engineer         software engineer  40065.985  \n",
       "\n",
       "[5 rows x 206 columns]"
      ]
     },
     "execution_count": 1,
     "metadata": {},
     "output_type": "execute_result"
    }
   ],
   "source": [
    "import pandas as pd\n",
    "\n",
    "df = pd.read_csv(\"./data/glassdoor_clean_data.csv\")\n",
    "df.head()"
   ]
  },
  {
   "cell_type": "code",
   "execution_count": 2,
   "id": "7dae8980",
   "metadata": {},
   "outputs": [
    {
     "data": {
      "text/plain": [
       "(10198, 206)"
      ]
     },
     "execution_count": 2,
     "metadata": {},
     "output_type": "execute_result"
    }
   ],
   "source": [
    "df.shape"
   ]
  },
  {
   "cell_type": "code",
   "execution_count": 3,
   "id": "1714a2e0",
   "metadata": {},
   "outputs": [
    {
     "data": {
      "text/plain": [
       "(10198,)"
      ]
     },
     "execution_count": 3,
     "metadata": {},
     "output_type": "execute_result"
    }
   ],
   "source": [
    "jobTitle = df['salary.salaries.val.jobTitle']\n",
    "jobTitle.shape"
   ]
  },
  {
   "cell_type": "code",
   "execution_count": 4,
   "id": "b6a871c9",
   "metadata": {},
   "outputs": [
    {
     "data": {
      "text/plain": [
       "(10198,)"
      ]
     },
     "execution_count": 4,
     "metadata": {},
     "output_type": "execute_result"
    }
   ],
   "source": [
    "title = df['title']\n",
    "title.shape"
   ]
  },
  {
   "cell_type": "code",
   "execution_count": 5,
   "id": "55655571",
   "metadata": {},
   "outputs": [
    {
     "name": "stdout",
     "output_type": "stream",
     "text": [
      "The two columns are identical.\n"
     ]
    }
   ],
   "source": [
    "if jobTitle.str.lower().equals(title):\n",
    "    print('The two columns are identical.')\n",
    "else:\n",
    "    print('The two columns are not identical.')"
   ]
  },
  {
   "cell_type": "code",
   "execution_count": 6,
   "id": "344da545",
   "metadata": {},
   "outputs": [
    {
     "data": {
      "text/plain": [
       "189"
      ]
     },
     "execution_count": 6,
     "metadata": {},
     "output_type": "execute_result"
    }
   ],
   "source": [
    "title.nunique()"
   ]
  },
  {
   "cell_type": "code",
   "execution_count": 7,
   "id": "32f7ee32",
   "metadata": {},
   "outputs": [
    {
     "data": {
      "text/plain": [
       "pandas.core.series.Series"
      ]
     },
     "execution_count": 7,
     "metadata": {},
     "output_type": "execute_result"
    }
   ],
   "source": [
    "type(title)"
   ]
  },
  {
   "cell_type": "code",
   "execution_count": 8,
   "id": "4cfdc591",
   "metadata": {},
   "outputs": [
    {
     "data": {
      "text/plain": [
       "list"
      ]
     },
     "execution_count": 8,
     "metadata": {},
     "output_type": "execute_result"
    }
   ],
   "source": [
    "unique_titles = sorted(title.unique())\n",
    "type(unique_titles)"
   ]
  },
  {
   "cell_type": "code",
   "execution_count": 9,
   "id": "1d85bc3f",
   "metadata": {},
   "outputs": [],
   "source": [
    "unique_title_series = pd.Series(unique_titles)"
   ]
  },
  {
   "cell_type": "code",
   "execution_count": 10,
   "id": "26efee53",
   "metadata": {},
   "outputs": [
    {
     "data": {
      "text/plain": [
       "pandas.core.series.Series"
      ]
     },
     "execution_count": 10,
     "metadata": {},
     "output_type": "execute_result"
    }
   ],
   "source": [
    "type(unique_title_series)"
   ]
  },
  {
   "cell_type": "code",
   "execution_count": 11,
   "id": "5d8f7e69",
   "metadata": {},
   "outputs": [],
   "source": [
    "with open('unique_titles.txt', 'w') as file:\n",
    "    for element in unique_title_series:\n",
    "        freq = title.value_counts()[element]\n",
    "        file.write(f\"{element}: {freq}\\n\")\n",
    "        "
   ]
  },
  {
   "cell_type": "code",
   "execution_count": 12,
   "id": "fb352f1b",
   "metadata": {},
   "outputs": [],
   "source": [
    "# Create a DataFrame from the Series\n",
    "df = pd.DataFrame(title, columns=['title'])\n",
    "\n",
    "# Define a function to assign job levels based on certain conditions\n",
    "def assign_job_level(title):\n",
    "    title = title.lower()\n",
    "    if 'graduate' in title or 'apprentice' in title or 'junior' in title or 'engineer i' in title or 'se1' in title:\n",
    "        return 1\n",
    "    elif ' ii' in title or 'se2' in title:\n",
    "        return 2\n",
    "    elif 'senior' in title or 'sr' in title or ' iii' in title:\n",
    "        return 3\n",
    "    elif ' iv' in title or 'staff' in title:\n",
    "        return 4\n",
    "    elif 'lead' in title or 'principal' in title or 'director' in title or 'president' in title or 'level 7' in title:\n",
    "        return 5\n",
    "    else:\n",
    "        return 2\n",
    "\n",
    "# Apply the function to the 'title' column to create a new 'job_level' column\n",
    "df['job_level'] = df['title'].apply(assign_job_level)"
   ]
  },
  {
   "cell_type": "code",
   "execution_count": 13,
   "id": "1c05402b",
   "metadata": {},
   "outputs": [
    {
     "data": {
      "text/plain": [
       "(10198, 2)"
      ]
     },
     "execution_count": 13,
     "metadata": {},
     "output_type": "execute_result"
    }
   ],
   "source": [
    "df.shape"
   ]
  },
  {
   "cell_type": "code",
   "execution_count": 14,
   "id": "9d224738",
   "metadata": {},
   "outputs": [],
   "source": [
    "df.to_csv('job_levels.csv', index=False)"
   ]
  },
  {
   "cell_type": "code",
   "execution_count": 15,
   "id": "dcc80569",
   "metadata": {},
   "outputs": [
    {
     "data": {
      "text/plain": [
       "(189,)"
      ]
     },
     "execution_count": 15,
     "metadata": {},
     "output_type": "execute_result"
    }
   ],
   "source": [
    "unique_title_series.shape"
   ]
  },
  {
   "cell_type": "code",
   "execution_count": 16,
   "id": "a8c26074",
   "metadata": {},
   "outputs": [],
   "source": [
    "words_to_remove = ['graduate', 'apprentice', 'junior', 'se1', ' ii', 'se2', 'senior', 'sr', ' iii', \n",
    "' iv', 'staff', 'lead', 'principal', 'president', 'director', 'level 7']\n",
    "\n",
    "# Create a new DataFrame with a column called \"title\"\n",
    "df = pd.DataFrame(unique_title_series, columns=['title'])\n",
    "def remove_words(string, words):\n",
    "    for word in words:\n",
    "        string = string.replace(word, '')\n",
    "    return string.strip()\n",
    "jobType_series = unique_title_series.apply(remove_words, args=(words_to_remove,))\n",
    "\n",
    "unique_jobType_series = sorted(jobType_series.unique())"
   ]
  },
  {
   "cell_type": "code",
   "execution_count": 17,
   "id": "a41c4a8b",
   "metadata": {},
   "outputs": [],
   "source": [
    "with open('jobType_series.txt', 'w') as file:\n",
    "    for element in jobType_series:\n",
    "        file.write(f\"{element}\\n\")\n",
    "with open('unique_jobType_series.txt', 'w') as file:\n",
    "    for element in unique_jobType_series:\n",
    "        file.write(f\"{element}\\n\")"
   ]
  },
  {
   "cell_type": "code",
   "execution_count": null,
   "id": "06f6be48",
   "metadata": {},
   "outputs": [],
   "source": []
  },
  {
   "cell_type": "code",
   "execution_count": 18,
   "id": "99f9ac7c",
   "metadata": {},
   "outputs": [
    {
     "data": {
      "text/plain": [
       "(142,)"
      ]
     },
     "execution_count": 18,
     "metadata": {},
     "output_type": "execute_result"
    }
   ],
   "source": [
    "unique_jobType_series = pd.Series(unique_jobType_series)\n",
    "unique_jobType_series.shape"
   ]
  },
  {
   "cell_type": "code",
   "execution_count": 25,
   "id": "7c66eef7",
   "metadata": {},
   "outputs": [],
   "source": [
    "worktype = ['develop', 'software', 'solution', 'q', 'test', 'support', 'service', 'system', 'infra']\n",
    "other_work_types = unique_jobType_series[~unique_jobType_series.str.contains('|'.join(worktype))]\n",
    "with open('other_work_types.txt', 'w') as file:\n",
    "    for element in other_work_types:\n",
    "        file.write(f\"{element}\\n\")"
   ]
  },
  {
   "cell_type": "code",
   "execution_count": 26,
   "id": "1df431ce",
   "metadata": {},
   "outputs": [
    {
     "data": {
      "text/html": [
       "<div>\n",
       "<style scoped>\n",
       "    .dataframe tbody tr th:only-of-type {\n",
       "        vertical-align: middle;\n",
       "    }\n",
       "\n",
       "    .dataframe tbody tr th {\n",
       "        vertical-align: top;\n",
       "    }\n",
       "\n",
       "    .dataframe thead th {\n",
       "        text-align: right;\n",
       "    }\n",
       "</style>\n",
       "<table border=\"1\" class=\"dataframe\">\n",
       "  <thead>\n",
       "    <tr style=\"text-align: right;\">\n",
       "      <th></th>\n",
       "      <th>title</th>\n",
       "      <th>job_level</th>\n",
       "    </tr>\n",
       "  </thead>\n",
       "  <tbody>\n",
       "    <tr>\n",
       "      <th>0</th>\n",
       "      <td>software engineer</td>\n",
       "      <td>2</td>\n",
       "    </tr>\n",
       "    <tr>\n",
       "      <th>1</th>\n",
       "      <td>senior software engineer</td>\n",
       "      <td>3</td>\n",
       "    </tr>\n",
       "    <tr>\n",
       "      <th>2</th>\n",
       "      <td>software developer</td>\n",
       "      <td>2</td>\n",
       "    </tr>\n",
       "    <tr>\n",
       "      <th>3</th>\n",
       "      <td>senior software engineer</td>\n",
       "      <td>3</td>\n",
       "    </tr>\n",
       "    <tr>\n",
       "      <th>4</th>\n",
       "      <td>software engineer</td>\n",
       "      <td>2</td>\n",
       "    </tr>\n",
       "  </tbody>\n",
       "</table>\n",
       "</div>"
      ],
      "text/plain": [
       "                      title  job_level\n",
       "0         software engineer          2\n",
       "1  senior software engineer          3\n",
       "2        software developer          2\n",
       "3  senior software engineer          3\n",
       "4         software engineer          2"
      ]
     },
     "execution_count": 26,
     "metadata": {},
     "output_type": "execute_result"
    }
   ],
   "source": [
    "df = pd.read_csv(\"./job_levels.csv\")\n",
    "df.head()"
   ]
  },
  {
   "cell_type": "code",
   "execution_count": 27,
   "id": "ce8e03cf",
   "metadata": {},
   "outputs": [],
   "source": [
    "# Define a list of column names to create\n",
    "cols_to_create = ['Development', 'Solution', 'Quality', 'Test', 'Support', 'Service', 'System', 'Infra', 'associate director - it']\n",
    "\n",
    "# Create the new columns with initial values of 0\n",
    "for col in cols_to_create:\n",
    "    df[col] = 0\n",
    "\n",
    "# Define a function to set column values based on the contents of the \"title\" column\n",
    "def set_column_values(row):\n",
    "    if 'develop' in row['title'].lower() or 'software' in row['title'].lower():\n",
    "        row['Development'] = 1\n",
    "    if 'solution' in row['title'].lower():\n",
    "        row['Solution'] = 1\n",
    "    if 'q' in row['title'].lower():\n",
    "        row['Quality'] = 1\n",
    "    if 'test' in row['title'].lower():\n",
    "        row['Test'] = 1\n",
    "    if 'support' in row['title'].lower():\n",
    "        row['Support'] = 1\n",
    "    if 'service' in row['title'].lower():\n",
    "        row['Service'] = 1\n",
    "    if 'system' in row['title'].lower():\n",
    "        row['System'] = 1\n",
    "    if 'infra' in row['title'].lower():\n",
    "        row['Infra'] = 1\n",
    "    if 'associate director - it' in row['title'].lower():\n",
    "        row['associate director - it'] = 1\n",
    "    return row\n",
    "\n",
    "# Apply the set_column_values function to each row in the DataFrame\n",
    "df = df.apply(set_column_values, axis=1)\n",
    "\n",
    "# Drop any rows where all the new columns have a value of 0\n",
    "df = df.loc[(df[cols_to_create] != 0).any(axis=1)]"
   ]
  },
  {
   "cell_type": "code",
   "execution_count": 28,
   "id": "776558a9",
   "metadata": {},
   "outputs": [
    {
     "data": {
      "text/plain": [
       "(9495, 11)"
      ]
     },
     "execution_count": 28,
     "metadata": {},
     "output_type": "execute_result"
    }
   ],
   "source": [
    "df.shape"
   ]
  },
  {
   "cell_type": "code",
   "execution_count": 29,
   "id": "1a47dad4",
   "metadata": {},
   "outputs": [
    {
     "data": {
      "text/html": [
       "<div>\n",
       "<style scoped>\n",
       "    .dataframe tbody tr th:only-of-type {\n",
       "        vertical-align: middle;\n",
       "    }\n",
       "\n",
       "    .dataframe tbody tr th {\n",
       "        vertical-align: top;\n",
       "    }\n",
       "\n",
       "    .dataframe thead th {\n",
       "        text-align: right;\n",
       "    }\n",
       "</style>\n",
       "<table border=\"1\" class=\"dataframe\">\n",
       "  <thead>\n",
       "    <tr style=\"text-align: right;\">\n",
       "      <th></th>\n",
       "      <th>title</th>\n",
       "      <th>job_level</th>\n",
       "      <th>Development</th>\n",
       "      <th>Solution</th>\n",
       "      <th>Quality</th>\n",
       "      <th>Test</th>\n",
       "      <th>Support</th>\n",
       "      <th>Service</th>\n",
       "      <th>System</th>\n",
       "      <th>Infra</th>\n",
       "      <th>associate director - it</th>\n",
       "    </tr>\n",
       "  </thead>\n",
       "  <tbody>\n",
       "    <tr>\n",
       "      <th>0</th>\n",
       "      <td>software engineer</td>\n",
       "      <td>2</td>\n",
       "      <td>1</td>\n",
       "      <td>0</td>\n",
       "      <td>0</td>\n",
       "      <td>0</td>\n",
       "      <td>0</td>\n",
       "      <td>0</td>\n",
       "      <td>0</td>\n",
       "      <td>0</td>\n",
       "      <td>0</td>\n",
       "    </tr>\n",
       "    <tr>\n",
       "      <th>1</th>\n",
       "      <td>senior software engineer</td>\n",
       "      <td>3</td>\n",
       "      <td>1</td>\n",
       "      <td>0</td>\n",
       "      <td>0</td>\n",
       "      <td>0</td>\n",
       "      <td>0</td>\n",
       "      <td>0</td>\n",
       "      <td>0</td>\n",
       "      <td>0</td>\n",
       "      <td>0</td>\n",
       "    </tr>\n",
       "    <tr>\n",
       "      <th>2</th>\n",
       "      <td>software developer</td>\n",
       "      <td>2</td>\n",
       "      <td>1</td>\n",
       "      <td>0</td>\n",
       "      <td>0</td>\n",
       "      <td>0</td>\n",
       "      <td>0</td>\n",
       "      <td>0</td>\n",
       "      <td>0</td>\n",
       "      <td>0</td>\n",
       "      <td>0</td>\n",
       "    </tr>\n",
       "    <tr>\n",
       "      <th>3</th>\n",
       "      <td>senior software engineer</td>\n",
       "      <td>3</td>\n",
       "      <td>1</td>\n",
       "      <td>0</td>\n",
       "      <td>0</td>\n",
       "      <td>0</td>\n",
       "      <td>0</td>\n",
       "      <td>0</td>\n",
       "      <td>0</td>\n",
       "      <td>0</td>\n",
       "      <td>0</td>\n",
       "    </tr>\n",
       "    <tr>\n",
       "      <th>4</th>\n",
       "      <td>software engineer</td>\n",
       "      <td>2</td>\n",
       "      <td>1</td>\n",
       "      <td>0</td>\n",
       "      <td>0</td>\n",
       "      <td>0</td>\n",
       "      <td>0</td>\n",
       "      <td>0</td>\n",
       "      <td>0</td>\n",
       "      <td>0</td>\n",
       "      <td>0</td>\n",
       "    </tr>\n",
       "    <tr>\n",
       "      <th>5</th>\n",
       "      <td>senior software engineer</td>\n",
       "      <td>3</td>\n",
       "      <td>1</td>\n",
       "      <td>0</td>\n",
       "      <td>0</td>\n",
       "      <td>0</td>\n",
       "      <td>0</td>\n",
       "      <td>0</td>\n",
       "      <td>0</td>\n",
       "      <td>0</td>\n",
       "      <td>0</td>\n",
       "    </tr>\n",
       "    <tr>\n",
       "      <th>6</th>\n",
       "      <td>software developer</td>\n",
       "      <td>2</td>\n",
       "      <td>1</td>\n",
       "      <td>0</td>\n",
       "      <td>0</td>\n",
       "      <td>0</td>\n",
       "      <td>0</td>\n",
       "      <td>0</td>\n",
       "      <td>0</td>\n",
       "      <td>0</td>\n",
       "      <td>0</td>\n",
       "    </tr>\n",
       "    <tr>\n",
       "      <th>7</th>\n",
       "      <td>solutions architect</td>\n",
       "      <td>2</td>\n",
       "      <td>0</td>\n",
       "      <td>1</td>\n",
       "      <td>0</td>\n",
       "      <td>0</td>\n",
       "      <td>0</td>\n",
       "      <td>0</td>\n",
       "      <td>0</td>\n",
       "      <td>0</td>\n",
       "      <td>0</td>\n",
       "    </tr>\n",
       "    <tr>\n",
       "      <th>8</th>\n",
       "      <td>systems engineer</td>\n",
       "      <td>2</td>\n",
       "      <td>0</td>\n",
       "      <td>0</td>\n",
       "      <td>0</td>\n",
       "      <td>0</td>\n",
       "      <td>0</td>\n",
       "      <td>0</td>\n",
       "      <td>1</td>\n",
       "      <td>0</td>\n",
       "      <td>0</td>\n",
       "    </tr>\n",
       "    <tr>\n",
       "      <th>9</th>\n",
       "      <td>software engineer</td>\n",
       "      <td>2</td>\n",
       "      <td>1</td>\n",
       "      <td>0</td>\n",
       "      <td>0</td>\n",
       "      <td>0</td>\n",
       "      <td>0</td>\n",
       "      <td>0</td>\n",
       "      <td>0</td>\n",
       "      <td>0</td>\n",
       "      <td>0</td>\n",
       "    </tr>\n",
       "    <tr>\n",
       "      <th>10</th>\n",
       "      <td>principal software engineer</td>\n",
       "      <td>5</td>\n",
       "      <td>1</td>\n",
       "      <td>0</td>\n",
       "      <td>0</td>\n",
       "      <td>0</td>\n",
       "      <td>0</td>\n",
       "      <td>0</td>\n",
       "      <td>0</td>\n",
       "      <td>0</td>\n",
       "      <td>0</td>\n",
       "    </tr>\n",
       "    <tr>\n",
       "      <th>11</th>\n",
       "      <td>senior software engineer</td>\n",
       "      <td>3</td>\n",
       "      <td>1</td>\n",
       "      <td>0</td>\n",
       "      <td>0</td>\n",
       "      <td>0</td>\n",
       "      <td>0</td>\n",
       "      <td>0</td>\n",
       "      <td>0</td>\n",
       "      <td>0</td>\n",
       "      <td>0</td>\n",
       "    </tr>\n",
       "    <tr>\n",
       "      <th>12</th>\n",
       "      <td>software development engineer</td>\n",
       "      <td>2</td>\n",
       "      <td>1</td>\n",
       "      <td>0</td>\n",
       "      <td>0</td>\n",
       "      <td>0</td>\n",
       "      <td>0</td>\n",
       "      <td>0</td>\n",
       "      <td>0</td>\n",
       "      <td>0</td>\n",
       "      <td>0</td>\n",
       "    </tr>\n",
       "    <tr>\n",
       "      <th>13</th>\n",
       "      <td>senior software engineer</td>\n",
       "      <td>3</td>\n",
       "      <td>1</td>\n",
       "      <td>0</td>\n",
       "      <td>0</td>\n",
       "      <td>0</td>\n",
       "      <td>0</td>\n",
       "      <td>0</td>\n",
       "      <td>0</td>\n",
       "      <td>0</td>\n",
       "      <td>0</td>\n",
       "    </tr>\n",
       "    <tr>\n",
       "      <th>14</th>\n",
       "      <td>software engineer</td>\n",
       "      <td>2</td>\n",
       "      <td>1</td>\n",
       "      <td>0</td>\n",
       "      <td>0</td>\n",
       "      <td>0</td>\n",
       "      <td>0</td>\n",
       "      <td>0</td>\n",
       "      <td>0</td>\n",
       "      <td>0</td>\n",
       "      <td>0</td>\n",
       "    </tr>\n",
       "    <tr>\n",
       "      <th>15</th>\n",
       "      <td>senior systems architect</td>\n",
       "      <td>3</td>\n",
       "      <td>0</td>\n",
       "      <td>0</td>\n",
       "      <td>0</td>\n",
       "      <td>0</td>\n",
       "      <td>0</td>\n",
       "      <td>0</td>\n",
       "      <td>1</td>\n",
       "      <td>0</td>\n",
       "      <td>0</td>\n",
       "    </tr>\n",
       "    <tr>\n",
       "      <th>16</th>\n",
       "      <td>lead systems architect</td>\n",
       "      <td>5</td>\n",
       "      <td>0</td>\n",
       "      <td>0</td>\n",
       "      <td>0</td>\n",
       "      <td>0</td>\n",
       "      <td>0</td>\n",
       "      <td>0</td>\n",
       "      <td>1</td>\n",
       "      <td>0</td>\n",
       "      <td>0</td>\n",
       "    </tr>\n",
       "    <tr>\n",
       "      <th>17</th>\n",
       "      <td>software development engineer</td>\n",
       "      <td>2</td>\n",
       "      <td>1</td>\n",
       "      <td>0</td>\n",
       "      <td>0</td>\n",
       "      <td>0</td>\n",
       "      <td>0</td>\n",
       "      <td>0</td>\n",
       "      <td>0</td>\n",
       "      <td>0</td>\n",
       "      <td>0</td>\n",
       "    </tr>\n",
       "    <tr>\n",
       "      <th>18</th>\n",
       "      <td>software development engineer</td>\n",
       "      <td>2</td>\n",
       "      <td>1</td>\n",
       "      <td>0</td>\n",
       "      <td>0</td>\n",
       "      <td>0</td>\n",
       "      <td>0</td>\n",
       "      <td>0</td>\n",
       "      <td>0</td>\n",
       "      <td>0</td>\n",
       "      <td>0</td>\n",
       "    </tr>\n",
       "    <tr>\n",
       "      <th>19</th>\n",
       "      <td>senior software engineer</td>\n",
       "      <td>3</td>\n",
       "      <td>1</td>\n",
       "      <td>0</td>\n",
       "      <td>0</td>\n",
       "      <td>0</td>\n",
       "      <td>0</td>\n",
       "      <td>0</td>\n",
       "      <td>0</td>\n",
       "      <td>0</td>\n",
       "      <td>0</td>\n",
       "    </tr>\n",
       "  </tbody>\n",
       "</table>\n",
       "</div>"
      ],
      "text/plain": [
       "                            title  job_level  Development  Solution  Quality  \\\n",
       "0               software engineer          2            1         0        0   \n",
       "1        senior software engineer          3            1         0        0   \n",
       "2              software developer          2            1         0        0   \n",
       "3        senior software engineer          3            1         0        0   \n",
       "4               software engineer          2            1         0        0   \n",
       "5        senior software engineer          3            1         0        0   \n",
       "6              software developer          2            1         0        0   \n",
       "7             solutions architect          2            0         1        0   \n",
       "8                systems engineer          2            0         0        0   \n",
       "9               software engineer          2            1         0        0   \n",
       "10    principal software engineer          5            1         0        0   \n",
       "11       senior software engineer          3            1         0        0   \n",
       "12  software development engineer          2            1         0        0   \n",
       "13       senior software engineer          3            1         0        0   \n",
       "14              software engineer          2            1         0        0   \n",
       "15       senior systems architect          3            0         0        0   \n",
       "16         lead systems architect          5            0         0        0   \n",
       "17  software development engineer          2            1         0        0   \n",
       "18  software development engineer          2            1         0        0   \n",
       "19       senior software engineer          3            1         0        0   \n",
       "\n",
       "    Test  Support  Service  System  Infra  associate director - it  \n",
       "0      0        0        0       0      0                        0  \n",
       "1      0        0        0       0      0                        0  \n",
       "2      0        0        0       0      0                        0  \n",
       "3      0        0        0       0      0                        0  \n",
       "4      0        0        0       0      0                        0  \n",
       "5      0        0        0       0      0                        0  \n",
       "6      0        0        0       0      0                        0  \n",
       "7      0        0        0       0      0                        0  \n",
       "8      0        0        0       1      0                        0  \n",
       "9      0        0        0       0      0                        0  \n",
       "10     0        0        0       0      0                        0  \n",
       "11     0        0        0       0      0                        0  \n",
       "12     0        0        0       0      0                        0  \n",
       "13     0        0        0       0      0                        0  \n",
       "14     0        0        0       0      0                        0  \n",
       "15     0        0        0       1      0                        0  \n",
       "16     0        0        0       1      0                        0  \n",
       "17     0        0        0       0      0                        0  \n",
       "18     0        0        0       0      0                        0  \n",
       "19     0        0        0       0      0                        0  "
      ]
     },
     "execution_count": 29,
     "metadata": {},
     "output_type": "execute_result"
    }
   ],
   "source": [
    "df.head(20)"
   ]
  },
  {
   "cell_type": "code",
   "execution_count": 30,
   "id": "ed3e55e5",
   "metadata": {},
   "outputs": [],
   "source": [
    "df.to_csv('job_levels_types.csv', index=False)"
   ]
  },
  {
   "cell_type": "code",
   "execution_count": null,
   "id": "417271d6",
   "metadata": {},
   "outputs": [],
   "source": []
  }
 ],
 "metadata": {
  "kernelspec": {
   "display_name": "Python 3 (ipykernel)",
   "language": "python",
   "name": "python3"
  },
  "language_info": {
   "codemirror_mode": {
    "name": "ipython",
    "version": 3
   },
   "file_extension": ".py",
   "mimetype": "text/x-python",
   "name": "python",
   "nbconvert_exporter": "python",
   "pygments_lexer": "ipython3",
   "version": "3.11.1"
  }
 },
 "nbformat": 4,
 "nbformat_minor": 5
}
